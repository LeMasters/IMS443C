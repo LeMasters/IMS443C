{
 "cells": [
  {
   "cell_type": "markdown",
   "id": "78735f8e-9b7d-456e-814e-bce53d3bacbd",
   "metadata": {},
   "source": [
    "# First Steps:  Data Scraping"
   ]
  },
  {
   "cell_type": "markdown",
   "id": "32075761-a180-4bc3-b153-1798b7078b63",
   "metadata": {},
   "source": [
    "The world is full of terrible people who don't want you to have the easy-to-access data you so richly deserve.  \"Web-scraping\" is much harder than it used to be (websites are seldom just a bunch of .html files anymore) but there are times that scraping the web can be useful.  "
   ]
  },
  {
   "cell_type": "markdown",
   "id": "d1a547ed-73f6-4dca-a23d-0c328986b17b",
   "metadata": {},
   "source": [
    "To do this, I'm going to make use of two venerable libraries:  `requests` and `BeautifulSoup`.  Are they already included in our installation of JupyterLab?  I think so, but we can check by asking the Python package manager, PIP, to tell us everything it knows..."
   ]
  },
  {
   "cell_type": "code",
   "execution_count": 1,
   "id": "a50b2fe3-b4b7-4190-821e-868a6dedde4f",
   "metadata": {},
   "outputs": [
    {
     "name": "stdout",
     "output_type": "stream",
     "text": [
      "Package                       Version\n",
      "----------------------------- ---------\n",
      "alembic                       1.7.7\n",
      "altair                        4.2.0\n",
      "anyio                         3.5.0\n",
      "argon2-cffi                   21.3.0\n",
      "argon2-cffi-bindings          21.2.0\n",
      "asttokens                     2.0.5\n",
      "async-generator               1.10\n",
      "attrs                         21.4.0\n",
      "Babel                         2.9.1\n",
      "backcall                      0.2.0\n",
      "backports.functools-lru-cache 1.6.4\n",
      "beautifulsoup4                4.11.1\n",
      "bleach                        5.0.0\n",
      "blinker                       1.4\n",
      "bokeh                         2.4.2\n",
      "Bottleneck                    1.3.4\n",
      "brotlipy                      0.7.0\n",
      "cached-property               1.5.2\n",
      "certifi                       2021.10.8\n",
      "certipy                       0.1.3\n",
      "cffi                          1.15.0\n",
      "charset-normalizer            2.0.12\n",
      "click                         8.1.2\n",
      "cloudpickle                   2.0.0\n",
      "colorama                      0.4.4\n",
      "conda                         4.12.0\n",
      "conda-package-handling        1.8.1\n",
      "cryptography                  36.0.2\n",
      "cycler                        0.11.0\n",
      "Cython                        0.29.28\n",
      "cytoolz                       0.11.2\n",
      "dask                          2022.4.0\n",
      "debugpy                       1.6.0\n",
      "decorator                     5.1.1\n",
      "defusedxml                    0.7.1\n",
      "dill                          0.3.4\n",
      "distributed                   2022.4.0\n",
      "entrypoints                   0.4\n",
      "executing                     0.8.3\n",
      "fastjsonschema                2.15.3\n",
      "flit_core                     3.7.1\n",
      "fonttools                     4.32.0\n",
      "fsspec                        2022.3.0\n",
      "gmpy2                         2.1.2\n",
      "greenlet                      1.1.2\n",
      "h5py                          3.6.0\n",
      "HeapDict                      1.0.1\n",
      "idna                          3.3\n",
      "imagecodecs                   2022.2.22\n",
      "imageio                       2.16.1\n",
      "importlib-metadata            4.11.3\n",
      "importlib-resources           5.6.0\n",
      "ipykernel                     6.12.0\n",
      "ipympl                        0.8.8\n",
      "ipython                       8.2.0\n",
      "ipython-genutils              0.2.0\n",
      "ipywidgets                    7.7.0\n",
      "jedi                          0.18.1\n",
      "Jinja2                        3.1.1\n",
      "joblib                        1.1.0\n",
      "json5                         0.9.5\n",
      "jsonschema                    4.4.0\n",
      "jupyter-client                7.2.2\n",
      "jupyter-core                  4.9.2\n",
      "jupyter-server                1.16.0\n",
      "jupyter-telemetry             0.1.0\n",
      "jupyterhub                    2.2.2\n",
      "jupyterlab                    3.3.3\n",
      "jupyterlab-pygments           0.2.0\n",
      "jupyterlab-server             2.12.0\n",
      "jupyterlab-widgets            1.1.0\n",
      "kiwisolver                    1.4.2\n",
      "libmambapy                    0.22.1\n",
      "llvmlite                      0.38.0\n",
      "locket                        0.2.0\n",
      "lz4                           4.0.0\n",
      "Mako                          1.2.0\n",
      "mamba                         0.17.0\n",
      "MarkupSafe                    2.1.1\n",
      "matplotlib                    3.5.1\n",
      "matplotlib-inline             0.1.3\n",
      "mistune                       0.8.4\n",
      "modulus11                     0.1\n",
      "mpmath                        1.2.1\n",
      "msgpack                       1.0.3\n",
      "munkres                       1.1.4\n",
      "nbclassic                     0.3.7\n",
      "nbclient                      0.5.13\n",
      "nbconvert                     6.4.5\n",
      "nbformat                      5.3.0\n",
      "nest-asyncio                  1.5.5\n",
      "networkx                      2.8\n",
      "notebook                      6.4.10\n",
      "notebook-shim                 0.1.0\n",
      "numba                         0.55.1\n",
      "numexpr                       2.8.0\n",
      "numpy                         1.21.5\n",
      "oauthlib                      3.2.0\n",
      "packaging                     21.3\n",
      "pamela                        1.0.0\n",
      "pandas                        1.4.2\n",
      "pandocfilters                 1.5.0\n",
      "parso                         0.8.3\n",
      "partd                         1.2.0\n",
      "patsy                         0.5.2\n",
      "pexpect                       4.8.0\n",
      "pickleshare                   0.7.5\n",
      "Pillow                        9.1.0\n",
      "pip                           22.0.4\n",
      "prometheus-client             0.14.1\n",
      "prompt-toolkit                3.0.29\n",
      "protobuf                      3.20.0rc2\n",
      "psutil                        5.9.0\n",
      "ptyprocess                    0.7.0\n",
      "pure-eval                     0.2.2\n",
      "pycosat                       0.6.3\n",
      "pycparser                     2.21\n",
      "pycurl                        7.45.1\n",
      "Pygments                      2.11.2\n",
      "PyJWT                         2.3.0\n",
      "pyOpenSSL                     22.0.0\n",
      "pyparsing                     3.0.8\n",
      "pyrsistent                    0.18.1\n",
      "PySocks                       1.7.1\n",
      "python-dateutil               2.8.2\n",
      "python-json-logger            2.0.1\n",
      "pytz                          2022.1\n",
      "PyWavelets                    1.3.0\n",
      "PyYAML                        6.0\n",
      "pyzmq                         22.3.0\n",
      "requests                      2.27.1\n",
      "ruamel.yaml                   0.17.21\n",
      "ruamel.yaml.clib              0.2.6\n",
      "ruamel-yaml-conda             0.15.80\n",
      "scikit-image                  0.19.2\n",
      "scikit-learn                  1.0.2\n",
      "scipy                         1.8.0\n",
      "seaborn                       0.11.2\n",
      "Send2Trash                    1.8.0\n",
      "setuptools                    62.0.0\n",
      "six                           1.16.0\n",
      "sniffio                       1.2.0\n",
      "sortedcontainers              2.4.0\n",
      "soupsieve                     2.3.1\n",
      "SQLAlchemy                    1.4.35\n",
      "stack-data                    0.2.0\n",
      "statsmodels                   0.13.2\n",
      "sympy                         1.10.1\n",
      "tables                        3.7.0\n",
      "tblib                         1.7.0\n",
      "terminado                     0.13.3\n",
      "testpath                      0.6.0\n",
      "threadpoolctl                 3.1.0\n",
      "tifffile                      2022.4.8\n",
      "toolz                         0.11.2\n",
      "tornado                       6.1\n",
      "tqdm                          4.64.0\n",
      "traitlets                     5.1.1\n",
      "typing_extensions             4.1.1\n",
      "unicodedata2                  14.0.0\n",
      "urllib3                       1.26.9\n",
      "wcwidth                       0.2.5\n",
      "webencodings                  0.5.1\n",
      "websocket-client              1.3.2\n",
      "wheel                         0.37.1\n",
      "widgetsnbextension            3.6.0\n",
      "xlrd                          2.0.1\n",
      "zict                          2.1.0\n",
      "zipp                          3.8.0\n",
      "Note: you may need to restart the kernel to use updated packages.\n"
     ]
    }
   ],
   "source": [
    "pip list"
   ]
  },
  {
   "cell_type": "markdown",
   "id": "1721d842-f592-4a26-9e1d-ef07e7f379ab",
   "metadata": {},
   "source": [
    "Life is good.  Let's get started by \"importing\" the `requests` library."
   ]
  },
  {
   "cell_type": "code",
   "execution_count": 2,
   "id": "64210317-2259-44ba-8c91-7448f041244f",
   "metadata": {},
   "outputs": [],
   "source": [
    "import requests"
   ]
  },
  {
   "cell_type": "markdown",
   "id": "6a6edb5d-e4fd-4bbf-922f-f9ad23f68216",
   "metadata": {},
   "source": [
    "No errors is good!  Now, let's open up the BeautifulSoup library:"
   ]
  },
  {
   "cell_type": "code",
   "execution_count": 3,
   "id": "a0255b87-a154-4196-8941-d8cf03124e9c",
   "metadata": {},
   "outputs": [
    {
     "ename": "ModuleNotFoundError",
     "evalue": "No module named 'beautifulsoup4'",
     "output_type": "error",
     "traceback": [
      "\u001b[0;31m---------------------------------------------------------------------------\u001b[0m",
      "\u001b[0;31mModuleNotFoundError\u001b[0m                       Traceback (most recent call last)",
      "Input \u001b[0;32mIn [3]\u001b[0m, in \u001b[0;36m<cell line: 1>\u001b[0;34m()\u001b[0m\n\u001b[0;32m----> 1\u001b[0m \u001b[38;5;28;01mimport\u001b[39;00m \u001b[38;5;21;01mbeautifulsoup4\u001b[39;00m\n",
      "\u001b[0;31mModuleNotFoundError\u001b[0m: No module named 'beautifulsoup4'"
     ]
    }
   ],
   "source": [
    "import beautifulsoup4"
   ]
  },
  {
   "cell_type": "markdown",
   "id": "b679ac19-1e71-4861-81a6-1d62a74648f2",
   "metadata": {},
   "source": [
    "Wait, what?  Oh, right, this is Python, *which often lies to your face*.  It turns out beautifulsoup is stored in bs4.  Don't ask, just make a note of it for the future."
   ]
  },
  {
   "cell_type": "code",
   "execution_count": 4,
   "id": "0ecc0bb5-d7d5-4373-89a3-ae0969109adf",
   "metadata": {},
   "outputs": [],
   "source": [
    "from bs4 import BeautifulSoup"
   ]
  },
  {
   "cell_type": "markdown",
   "id": "0a0b564a-bf04-4c58-89e3-40af6e69dc70",
   "metadata": {},
   "source": [
    "Stellar.  Now let's grab some headlines from Kotaku."
   ]
  },
  {
   "cell_type": "markdown",
   "id": "adfb911e-fc6a-44e4-80b8-457fb78e3ea4",
   "metadata": {},
   "source": [
    "> Also, in case it is no longer listed as one of the headlines, here is a reminder of that the games industry, games-adjacent industries, and most (many) gamers are largely just toxic sludge:"
   ]
  },
  {
   "cell_type": "markdown",
   "id": "af9def2a-5100-4212-917a-b7ddf1b024f4",
   "metadata": {
    "tags": []
   },
   "source": [
    "> https://kotaku.com/kim-kardashian-roblox-sex-tape-advertisement-experience-1848811161"
   ]
  },
  {
   "cell_type": "code",
   "execution_count": 5,
   "id": "ddba7ad0-536b-466e-b14e-202e28ccaa55",
   "metadata": {},
   "outputs": [],
   "source": [
    "kotakuNewsSite = \"https://kotaku.com/culture/news\""
   ]
  },
  {
   "cell_type": "code",
   "execution_count": 6,
   "id": "a0ce65a3-3b71-4be6-b523-abb1c3878c17",
   "metadata": {},
   "outputs": [],
   "source": [
    "myResult = requests.get(kotakuNewsSite)"
   ]
  },
  {
   "cell_type": "code",
   "execution_count": 7,
   "id": "b1ccddff-8b33-4a76-b592-c340d390aa17",
   "metadata": {},
   "outputs": [],
   "source": [
    "mySoup = BeautifulSoup(myResult.content, 'html.parser')"
   ]
  },
  {
   "cell_type": "code",
   "execution_count": 8,
   "id": "d84ab6b4-e7ee-4a9c-8b85-7d400c381a7f",
   "metadata": {},
   "outputs": [],
   "source": [
    "myHeadlines = mySoup.find_all('h2')"
   ]
  },
  {
   "cell_type": "code",
   "execution_count": 9,
   "id": "8789ace3-e0d9-4f19-890a-3ec0b2a69b4a",
   "metadata": {},
   "outputs": [],
   "source": [
    "headlineQuantity = len(myHeadlines)"
   ]
  },
  {
   "cell_type": "code",
   "execution_count": 10,
   "id": "ff2deeba-6b7d-47b6-aec9-f50da9d04a0f",
   "metadata": {},
   "outputs": [
    {
     "data": {
      "text/plain": [
       "20"
      ]
     },
     "execution_count": 10,
     "metadata": {},
     "output_type": "execute_result"
    }
   ],
   "source": [
    "headlineQuantity # the site usually includes 20 on a page..."
   ]
  },
  {
   "cell_type": "markdown",
   "id": "61f5d5a5-3bc9-4ec8-92ba-8c38e996e827",
   "metadata": {},
   "source": [
    "Perfect.  Let's test it by looking at the first headline.  Don't forget the first headline will be headline number 0 because computers <3 U:"
   ]
  },
  {
   "cell_type": "code",
   "execution_count": 11,
   "id": "5cced7f5-9133-42f0-a1c9-78f4d1bcd10e",
   "metadata": {},
   "outputs": [
    {
     "name": "stdout",
     "output_type": "stream",
     "text": [
      "<h2 class=\"sc-759qgu-0 cAqwZL cw4lnv-6 fqqIge\"><i>Elden Ring</i>'s Legendary '50 Hit' Illusory Wall, Murdered In The Big Patch (RIP)</h2>\n"
     ]
    }
   ],
   "source": [
    "print(myHeadlines[0])"
   ]
  },
  {
   "cell_type": "markdown",
   "id": "adcf7062-c550-45aa-814a-83b6a5255901",
   "metadata": {},
   "source": [
    "That's not very useful.  Luckily, `BeautifulSoup` has a built-in function to automatically fix this for us.  To use it, we use what is called \"dot syntax.\"  It is kind of like adding a degree of specificity to a request."
   ]
  },
  {
   "cell_type": "code",
   "execution_count": 12,
   "id": "bbf9b7dd-710c-4c68-bb75-72bee0fddd7b",
   "metadata": {},
   "outputs": [
    {
     "name": "stdout",
     "output_type": "stream",
     "text": [
      "Elden Ring's Legendary '50 Hit' Illusory Wall, Murdered In The Big Patch (RIP)\n"
     ]
    }
   ],
   "source": [
    "print(myHeadlines[0].text)"
   ]
  },
  {
   "cell_type": "markdown",
   "id": "d3a42340-62eb-4cf1-8c7f-364b49f6e0e7",
   "metadata": {},
   "source": [
    "YESSSSSSSSS.  (That's \"yes\" in Python).  Let's collect them all!"
   ]
  },
  {
   "cell_type": "code",
   "execution_count": 13,
   "id": "70023dd1-1538-495a-924d-2ab5b70a53b8",
   "metadata": {
    "tags": []
   },
   "outputs": [
    {
     "name": "stdout",
     "output_type": "stream",
     "text": [
      "Elden Ring's Legendary '50 Hit' Illusory Wall, Murdered In The Big Patch (RIP)\n",
      "Robotech Board Game Fires Enormous Missile Barrage Into Kickstarter Funding Goal\n",
      "Battlefield 2042 Is Now A Little Bit Better\n",
      "Snoop Dogg Is Now Playable In Call Of Duty\n",
      "Lego Star Wars DLCs Add Rogue One, Classic '90s Minifigs\n",
      "GTA V’s Next-Gen Ports Remove Some Transphobic Content\n",
      "Nintendo Worker Files Complaint With National Labor Relations Board\n",
      "Elden Ring Patch Patches Patches\n",
      "Tiny Tina’s Wonderlands Already Has DLC, Will Never Let You Go\n",
      "New World Of Warcraft Expansion Lets You Fly Dragons\n",
      "Elden Ring Patch Really Wants Folks To Finally Notice The Damn Tutorial\n",
      "Xbox Game Pass’ April Lineup Is Kind Of A Letdown\n",
      "Elden Ring's Biggest Patch Yet Nerfs Bleed, Fixes Huge Bugged Quest, And Way More\n",
      "Kim Kardashian Threatens To Sue Roblox Over Sex Tape Ad, Creator Banned\n",
      "Report: Sega Developing New, 'Big-Budget' Jet Set Radio & Crazy Taxi Games\n",
      "Former Xbox Boss Remembers Microsoft Trying To Buy Blizzard, Westwood Back In The Day\n",
      "Crusty PlayStation Leads To Bomb Scare At Boston Airport\n",
      "It's April 2022, And Battlefield 2042 Is Finally Getting VoIP\n",
      "Report: Streets Of Rage Film Happening, Script By John Wick Creator\n",
      "Nintendo’s GBA Emulator For Switch Online Seemingly Leaks\n"
     ]
    }
   ],
   "source": [
    "for i in range(headlineQuantity):\n",
    "    print(myHeadlines[i].text)"
   ]
  },
  {
   "cell_type": "markdown",
   "id": "4c761639-f851-4ec4-8760-3c8151af543c",
   "metadata": {},
   "source": [
    "Fun!  Obviously.  But can we dump that data to a text file so that we can have it for all eternity?"
   ]
  },
  {
   "cell_type": "markdown",
   "id": "6ca7f6ba-82e0-462c-b304-698ce9f66a8f",
   "metadata": {},
   "source": [
    "Sure, why not?"
   ]
  },
  {
   "cell_type": "code",
   "execution_count": 14,
   "id": "c5327ae1-8a9b-4841-accb-24f5e7069327",
   "metadata": {},
   "outputs": [],
   "source": [
    "myFile = open(\"newHeadlines.txt\", \"a+\")"
   ]
  },
  {
   "cell_type": "markdown",
   "id": "5dccce1e-cb3a-409a-bf1a-6a2a09c740ab",
   "metadata": {},
   "source": [
    "\"w\" is \"write new file\"; \"a\" is \"append to file\""
   ]
  },
  {
   "cell_type": "code",
   "execution_count": 15,
   "id": "453779fc-bc0b-4856-8696-a2bba18d6c17",
   "metadata": {},
   "outputs": [],
   "source": [
    "for i in range(headlineQuantity):\n",
    "    myFile.write(myHeadlines[i].text)\n",
    "    myFile.write(\"\\n\")"
   ]
  },
  {
   "cell_type": "code",
   "execution_count": 16,
   "id": "f354d64d-91f3-41ad-afe3-d046f9bce5a4",
   "metadata": {},
   "outputs": [],
   "source": [
    "myFile.close()"
   ]
  }
 ],
 "metadata": {
  "kernelspec": {
   "display_name": "Python 3 (ipykernel)",
   "language": "python",
   "name": "python3"
  },
  "language_info": {
   "codemirror_mode": {
    "name": "ipython",
    "version": 3
   },
   "file_extension": ".py",
   "mimetype": "text/x-python",
   "name": "python",
   "nbconvert_exporter": "python",
   "pygments_lexer": "ipython3",
   "version": "3.9.10"
  }
 },
 "nbformat": 4,
 "nbformat_minor": 5
}
